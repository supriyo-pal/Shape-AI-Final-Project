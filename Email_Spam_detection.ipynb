{
  "nbformat": 4,
  "nbformat_minor": 0,
  "metadata": {
    "kernelspec": {
      "display_name": "Python 3",
      "language": "python",
      "name": "python3"
    },
    "language_info": {
      "codemirror_mode": {
        "name": "ipython",
        "version": 3
      },
      "file_extension": ".py",
      "mimetype": "text/x-python",
      "name": "python",
      "nbconvert_exporter": "python",
      "pygments_lexer": "ipython3",
      "version": "3.7.4"
    },
    "colab": {
      "name": "Email Spam detection.ipynb",
      "provenance": [],
      "collapsed_sections": [
        "C5qIS9zqmF46"
      ]
    }
  },
  "cells": [
    {
      "cell_type": "markdown",
      "metadata": {
        "id": "TJKJe3agmdsp"
      },
      "source": [
        "#Name : SUPRIYO PAL"
      ]
    },
    {
      "cell_type": "markdown",
      "metadata": {
        "id": "qCzAxoBZmF4g"
      },
      "source": [
        "## Data\n",
        "- **The SMS (text) data was downloaded from UCI datasets.**\n",
        "- **It contains 5,574 SMS phone messages.**\n",
        "- **The data were collected for the purpose of mobile phone spam research and have already been labeled as either spam or ham**"
      ]
    },
    {
      "cell_type": "markdown",
      "metadata": {
        "id": "bsph-yD2mF4j"
      },
      "source": [
        "# Steps\n",
        "-  **Import all the necessary Libraries for analysis, Visualization, Algorithms**\n",
        "-   **Explore Data Analysis**\n",
        "-   **Using NLP stopwords, tokenization**\n",
        "-   **split the dataset**\n",
        "-   **Build the model** \n",
        "-   **Use statical model analysis perfrom classification report(Confusion matrix , cohhen_kappa_score, AUC, ROC,accuracy)**"
      ]
    },
    {
      "cell_type": "markdown",
      "metadata": {
        "id": "nBsO2BPQmF4l"
      },
      "source": [
        "#### Import the modules needed."
      ]
    },
    {
      "cell_type": "code",
      "metadata": {
        "id": "SkWP-Tw6mF4m"
      },
      "source": [
        "# Import Pandas and NumPy\n",
        "\n",
        "\n",
        "# importing numpy be used as an efficient multi-dimensional container of generic data.\n",
        "import numpy as np  \n",
        "\n",
        "#importing pandas it allows you to perform data manipulation create, manipulate and wrangle the data in python.\n",
        "import pandas as pd\n",
        "\n",
        "\n",
        "#   ---------- # Visualizations---------\n",
        "\n",
        "# Import Libraries for plotting \n",
        "\n",
        "#Matplotlib is a Python 2D plotting library\n",
        "import matplotlib.pyplot as plt\n",
        "%matplotlib inline\n",
        "\n",
        "# Seaborn is high-level interface for drawing attractive and informative statistical graphics.\n",
        "import seaborn as sns\n",
        "\n",
        "\n",
        "# importing NLTK (Natrual Language Tool Kit)\n",
        "import nltk\n",
        "#importing stopwords\n",
        "from nltk.corpus import stopwords\n",
        "\n",
        "#import string\n",
        "import string\n",
        "\n",
        "\n",
        "# Supress Warnings\n",
        "import warnings\n",
        "warnings.filterwarnings('ignore')\n",
        "\n",
        "import re\n"
      ],
      "execution_count": null,
      "outputs": []
    },
    {
      "cell_type": "code",
      "metadata": {
        "id": "nET5nxsymF4o"
      },
      "source": [
        "# Read the data of credit card fraud detection\n",
        "# Here file is CSV i.e Comma Seperated Values\n",
        "#df is a variable\n",
        "\n",
        "df = pd.read_csv(\"/content/spam.csv\")"
      ],
      "execution_count": null,
      "outputs": []
    },
    {
      "cell_type": "code",
      "metadata": {
        "id": "IH44XGN-mF4p",
        "outputId": "ade639c8-23b8-4b5c-9883-c051810f0ac1"
      },
      "source": [
        "df.head()\n",
        "#Understand your data using the head() function to look at the first few rows.\n",
        "\n",
        "# Checking the first 5 rows"
      ],
      "execution_count": null,
      "outputs": [
        {
          "data": {
            "text/html": [
              "<div>\n",
              "<style scoped>\n",
              "    .dataframe tbody tr th:only-of-type {\n",
              "        vertical-align: middle;\n",
              "    }\n",
              "\n",
              "    .dataframe tbody tr th {\n",
              "        vertical-align: top;\n",
              "    }\n",
              "\n",
              "    .dataframe thead th {\n",
              "        text-align: right;\n",
              "    }\n",
              "</style>\n",
              "<table border=\"1\" class=\"dataframe\">\n",
              "  <thead>\n",
              "    <tr style=\"text-align: right;\">\n",
              "      <th></th>\n",
              "      <th>Label</th>\n",
              "      <th>EmailText</th>\n",
              "    </tr>\n",
              "  </thead>\n",
              "  <tbody>\n",
              "    <tr>\n",
              "      <th>0</th>\n",
              "      <td>ham</td>\n",
              "      <td>Go until jurong point, crazy.. Available only ...</td>\n",
              "    </tr>\n",
              "    <tr>\n",
              "      <th>1</th>\n",
              "      <td>ham</td>\n",
              "      <td>Ok lar... Joking wif u oni...</td>\n",
              "    </tr>\n",
              "    <tr>\n",
              "      <th>2</th>\n",
              "      <td>spam</td>\n",
              "      <td>Free entry in 2 a wkly comp to win FA Cup fina...</td>\n",
              "    </tr>\n",
              "    <tr>\n",
              "      <th>3</th>\n",
              "      <td>ham</td>\n",
              "      <td>U dun say so early hor... U c already then say...</td>\n",
              "    </tr>\n",
              "    <tr>\n",
              "      <th>4</th>\n",
              "      <td>ham</td>\n",
              "      <td>Nah I don't think he goes to usf, he lives aro...</td>\n",
              "    </tr>\n",
              "  </tbody>\n",
              "</table>\n",
              "</div>"
            ],
            "text/plain": [
              "  Label                                          EmailText\n",
              "0   ham  Go until jurong point, crazy.. Available only ...\n",
              "1   ham                      Ok lar... Joking wif u oni...\n",
              "2  spam  Free entry in 2 a wkly comp to win FA Cup fina...\n",
              "3   ham  U dun say so early hor... U c already then say...\n",
              "4   ham  Nah I don't think he goes to usf, he lives aro..."
            ]
          },
          "execution_count": 7,
          "metadata": {},
          "output_type": "execute_result"
        }
      ]
    },
    {
      "cell_type": "code",
      "metadata": {
        "id": "xxJ1LPPQmF4r",
        "outputId": "9f4670f7-41fa-499c-b65c-19d507acec2d"
      },
      "source": [
        "df.Label.value_counts()"
      ],
      "execution_count": null,
      "outputs": [
        {
          "data": {
            "text/plain": [
              "ham     4825\n",
              "spam     747\n",
              "Name: Label, dtype: int64"
            ]
          },
          "execution_count": 8,
          "metadata": {},
          "output_type": "execute_result"
        }
      ]
    },
    {
      "cell_type": "markdown",
      "metadata": {
        "id": "CJp_e8jsmF4s"
      },
      "source": [
        "#### shape \n",
        "- Know the shape of the dataset , how many rows and columns .\n",
        "- shape[0] is rows \n",
        "- shape[1] is columns "
      ]
    },
    {
      "cell_type": "code",
      "metadata": {
        "id": "wg6pg9EKmF4s",
        "outputId": "a792869d-0bdc-40be-b496-1139cfdc7889"
      },
      "source": [
        "\n",
        "print(\"There are {} rows and {} columns are present in the Data Set\".format(df.shape[0],df.shape[1]))\n",
        "\n",
        "#printing the rows and columns "
      ],
      "execution_count": null,
      "outputs": [
        {
          "name": "stdout",
          "output_type": "stream",
          "text": [
            "There are 5572 rows and 2 columns are present in the Data Set\n"
          ]
        }
      ]
    },
    {
      "cell_type": "markdown",
      "metadata": {
        "id": "FoGwqD0EmF4t"
      },
      "source": [
        "### info()\n",
        "> -This method prints information about a DataFrame including the index dtype and column dtypes, non-null values and memory usage"
      ]
    },
    {
      "cell_type": "code",
      "metadata": {
        "id": "uz0r7YWbmF4t",
        "outputId": "0453c79f-a095-465a-b29f-c17524df2372"
      },
      "source": [
        "df.info()\n",
        "\n",
        "# # To know the information of the dataset"
      ],
      "execution_count": null,
      "outputs": [
        {
          "name": "stdout",
          "output_type": "stream",
          "text": [
            "<class 'pandas.core.frame.DataFrame'>\n",
            "RangeIndex: 5572 entries, 0 to 5571\n",
            "Data columns (total 2 columns):\n",
            " #   Column     Non-Null Count  Dtype \n",
            "---  ------     --------------  ----- \n",
            " 0   Label      5572 non-null   object\n",
            " 1   EmailText  5572 non-null   object\n",
            "dtypes: object(2)\n",
            "memory usage: 87.2+ KB\n"
          ]
        }
      ]
    },
    {
      "cell_type": "code",
      "metadata": {
        "id": "nK4V0ryjmF4v",
        "outputId": "903691d4-eb4e-499e-a60b-21ecbcd524d4"
      },
      "source": [
        "df.dtypes"
      ],
      "execution_count": null,
      "outputs": [
        {
          "data": {
            "text/plain": [
              "Label        object\n",
              "EmailText    object\n",
              "dtype: object"
            ]
          },
          "execution_count": 11,
          "metadata": {},
          "output_type": "execute_result"
        }
      ]
    },
    {
      "cell_type": "markdown",
      "metadata": {
        "id": "SXNbYqm2mF4w"
      },
      "source": [
        "#### The describe() \n",
        "- Describe method from pandas provide a summary statistics"
      ]
    },
    {
      "cell_type": "code",
      "metadata": {
        "id": "e5wpCC6OmF4w",
        "outputId": "454c9867-f973-49f1-e8f7-262518f02f97"
      },
      "source": [
        "df.describe()"
      ],
      "execution_count": null,
      "outputs": [
        {
          "data": {
            "text/html": [
              "<div>\n",
              "<style scoped>\n",
              "    .dataframe tbody tr th:only-of-type {\n",
              "        vertical-align: middle;\n",
              "    }\n",
              "\n",
              "    .dataframe tbody tr th {\n",
              "        vertical-align: top;\n",
              "    }\n",
              "\n",
              "    .dataframe thead th {\n",
              "        text-align: right;\n",
              "    }\n",
              "</style>\n",
              "<table border=\"1\" class=\"dataframe\">\n",
              "  <thead>\n",
              "    <tr style=\"text-align: right;\">\n",
              "      <th></th>\n",
              "      <th>Label</th>\n",
              "      <th>EmailText</th>\n",
              "    </tr>\n",
              "  </thead>\n",
              "  <tbody>\n",
              "    <tr>\n",
              "      <th>count</th>\n",
              "      <td>5572</td>\n",
              "      <td>5572</td>\n",
              "    </tr>\n",
              "    <tr>\n",
              "      <th>unique</th>\n",
              "      <td>2</td>\n",
              "      <td>5169</td>\n",
              "    </tr>\n",
              "    <tr>\n",
              "      <th>top</th>\n",
              "      <td>ham</td>\n",
              "      <td>Sorry, I'll call later</td>\n",
              "    </tr>\n",
              "    <tr>\n",
              "      <th>freq</th>\n",
              "      <td>4825</td>\n",
              "      <td>30</td>\n",
              "    </tr>\n",
              "  </tbody>\n",
              "</table>\n",
              "</div>"
            ],
            "text/plain": [
              "       Label               EmailText\n",
              "count   5572                    5572\n",
              "unique     2                    5169\n",
              "top      ham  Sorry, I'll call later\n",
              "freq    4825                      30"
            ]
          },
          "execution_count": 12,
          "metadata": {},
          "output_type": "execute_result"
        }
      ]
    },
    {
      "cell_type": "markdown",
      "metadata": {
        "id": "EyB2yqpjmF4x"
      },
      "source": [
        "**Note**\n",
        "- Let’s get the summary statistics and visualize the data. \n",
        "- The describe() method from pandas provide a summary statistics. Such as, there are 5,572 labels and messages. \n",
        "- There are two unique labels indicating for “ham” and “spam”.\n",
        "- We can also observe that there are less unique messages (5,169) than total message count(5,572) indicating some repeated messages.\n",
        "- The top label is “ham” and the top message in the data is “Sorry, I’ll call later”. \n",
        "- The duplicatedRow below shows, there are 403 duplicated messages."
      ]
    },
    {
      "cell_type": "code",
      "metadata": {
        "id": "sczcEyDdmF4y",
        "outputId": "d5ac58b3-0dda-46f5-9cab-c70e098b8f62"
      },
      "source": [
        "df.groupby('Label').describe().T\n",
        "# Describe the Label column for better understanding"
      ],
      "execution_count": null,
      "outputs": [
        {
          "data": {
            "text/html": [
              "<div>\n",
              "<style scoped>\n",
              "    .dataframe tbody tr th:only-of-type {\n",
              "        vertical-align: middle;\n",
              "    }\n",
              "\n",
              "    .dataframe tbody tr th {\n",
              "        vertical-align: top;\n",
              "    }\n",
              "\n",
              "    .dataframe thead th {\n",
              "        text-align: right;\n",
              "    }\n",
              "</style>\n",
              "<table border=\"1\" class=\"dataframe\">\n",
              "  <thead>\n",
              "    <tr style=\"text-align: right;\">\n",
              "      <th></th>\n",
              "      <th>Label</th>\n",
              "      <th>ham</th>\n",
              "      <th>spam</th>\n",
              "    </tr>\n",
              "  </thead>\n",
              "  <tbody>\n",
              "    <tr>\n",
              "      <th rowspan=\"4\" valign=\"top\">EmailText</th>\n",
              "      <th>count</th>\n",
              "      <td>4825</td>\n",
              "      <td>747</td>\n",
              "    </tr>\n",
              "    <tr>\n",
              "      <th>unique</th>\n",
              "      <td>4516</td>\n",
              "      <td>653</td>\n",
              "    </tr>\n",
              "    <tr>\n",
              "      <th>top</th>\n",
              "      <td>Sorry, I'll call later</td>\n",
              "      <td>Please call our customer service representativ...</td>\n",
              "    </tr>\n",
              "    <tr>\n",
              "      <th>freq</th>\n",
              "      <td>30</td>\n",
              "      <td>4</td>\n",
              "    </tr>\n",
              "  </tbody>\n",
              "</table>\n",
              "</div>"
            ],
            "text/plain": [
              "Label                                ham  \\\n",
              "EmailText count                     4825   \n",
              "          unique                    4516   \n",
              "          top     Sorry, I'll call later   \n",
              "          freq                        30   \n",
              "\n",
              "Label                                                          spam  \n",
              "EmailText count                                                 747  \n",
              "          unique                                                653  \n",
              "          top     Please call our customer service representativ...  \n",
              "          freq                                                    4  "
            ]
          },
          "execution_count": 13,
          "metadata": {},
          "output_type": "execute_result"
        }
      ]
    },
    {
      "cell_type": "markdown",
      "metadata": {
        "id": "RajRXtFUmF4z"
      },
      "source": [
        "### isnull()\n",
        "- To know the how many null values are present in the dataset"
      ]
    },
    {
      "cell_type": "code",
      "metadata": {
        "id": "VObeeM5UmF4z",
        "outputId": "10baa8c9-4051-4df2-ac7e-3939b649f167"
      },
      "source": [
        "df.isnull().sum()\n"
      ],
      "execution_count": null,
      "outputs": [
        {
          "data": {
            "text/plain": [
              "Label        0\n",
              "EmailText    0\n",
              "dtype: int64"
            ]
          },
          "execution_count": 14,
          "metadata": {},
          "output_type": "execute_result"
        }
      ]
    },
    {
      "cell_type": "markdown",
      "metadata": {
        "id": "Mm6uMOQ8mF40"
      },
      "source": [
        "**Note**\n",
        "- There no null values are present in this spam detection dataset."
      ]
    },
    {
      "cell_type": "code",
      "metadata": {
        "id": "rRQlewFNmF41",
        "outputId": "09beae57-bdf8-46ef-f389-ba57b70c4af7"
      },
      "source": [
        "#visualizing the null values for each attribute\n",
        "\n",
        "\n",
        "import missingno as msno\n",
        "\n",
        "#msgo ---->  It's also the name of a Python library for the exploratory visualization of missing data.\n",
        "\n",
        "msno.bar(df)\n",
        "#ploting the bar graph\n",
        "\n",
        "plt.show()\n",
        "#Show the image"
      ],
      "execution_count": null,
      "outputs": [
        {
          "data": {
            "image/png": "[encoded data removed]",
            "text/plain": [
              "<Figure size 1728x720 with 3 Axes>"
            ]
          },
          "metadata": {
            "needs_background": "light"
          },
          "output_type": "display_data"
        }
      ]
    },
    {
      "cell_type": "code",
      "metadata": {
        "id": "UIO6ca0ImF42",
        "outputId": "a9f709f1-8e72-43a2-c816-841936b7d700"
      },
      "source": [
        "sns.countplot(x='Label', data = df)\n",
        "#is used to Show the counts of observations in each categorical bin using bar\n",
        "\n",
        "\n",
        "from collections import Counter\n",
        "#Counter is a container which stores the count of elements in a dictionary format where element is the key and its value corrosponds to it's count.\n",
        "\n",
        "counter = Counter( df [ 'Label' ])\n",
        "#passing 'Class' feature in the Counter , it tells no. of 1s and 0s present in the dataset\n",
        "\n",
        "print(counter)\n",
        "#print the counter variable\n",
        "\n"
      ],
      "execution_count": null,
      "outputs": [
        {
          "name": "stdout",
          "output_type": "stream",
          "text": [
            "Counter({'ham': 4825, 'spam': 747})\n"
          ]
        },
        {
          "data": {
            "image/png": "[encoded data removed]",
            "text/plain": [
              "<Figure size 432x288 with 1 Axes>"
            ]
          },
          "metadata": {
            "needs_background": "light"
          },
          "output_type": "display_data"
        }
      ]
    },
    {
      "cell_type": "markdown",
      "metadata": {
        "id": "xYtwMpB_mF42"
      },
      "source": [
        "**This indicates the imbalanced data had found**"
      ]
    },
    {
      "cell_type": "code",
      "metadata": {
        "id": "mZgQNzCTmF42",
        "outputId": "eb09f8d9-1782-43f1-ce34-ec5b7e125b62"
      },
      "source": [
        "duplicatedRow = df[df.duplicated()]\n",
        "print(duplicatedRow[:])"
      ],
      "execution_count": null,
      "outputs": [
        {
          "name": "stdout",
          "output_type": "stream",
          "text": [
            "     Label                                          EmailText\n",
            "102    ham  As per your request 'Melle Melle (Oru Minnamin...\n",
            "153    ham  As per your request 'Melle Melle (Oru Minnamin...\n",
            "206    ham  As I entered my cabin my PA said, '' Happy B'd...\n",
            "222    ham                             Sorry, I'll call later\n",
            "325    ham                   No calls..messages..missed calls\n",
            "...    ...                                                ...\n",
            "5524  spam  You are awarded a SiPix Digital Camera! call 0...\n",
            "5535   ham  I know you are thinkin malaria. But relax, chi...\n",
            "5539   ham                         Just sleeping..and surfing\n",
            "5553   ham                        Hahaha..use your brain dear\n",
            "5558   ham                             Sorry, I'll call later\n",
            "\n",
            "[403 rows x 2 columns]\n"
          ]
        }
      ]
    },
    {
      "cell_type": "markdown",
      "metadata": {
        "id": "NwJrBhihmF43"
      },
      "source": [
        "**NOTE**\n",
        "- To know the duplicates on the data, There are 403 rows of duplicates "
      ]
    },
    {
      "cell_type": "markdown",
      "metadata": {
        "id": "p6_uzw3UmF43"
      },
      "source": [
        "#### Remove the duplicates"
      ]
    },
    {
      "cell_type": "code",
      "metadata": {
        "id": "FXnCYgJomF43"
      },
      "source": [
        "#drop the duplicates by using duplicate maethod\n",
        "df.drop_duplicates(inplace = True)"
      ],
      "execution_count": null,
      "outputs": []
    },
    {
      "cell_type": "code",
      "metadata": {
        "id": "RnXa9smKmF43",
        "outputId": "0a79c527-096c-48d4-a5ec-8bdf5e282c6c"
      },
      "source": [
        "#show the new shape having number of rows and columns after duplication is dropped\n",
        "\n",
        "print(\"There are {} rows and {} columns are present in the Data Set\".format(df.shape[0],df.shape[1]))\n",
        "\n",
        "#printing the rows and columns "
      ],
      "execution_count": null,
      "outputs": [
        {
          "name": "stdout",
          "output_type": "stream",
          "text": [
            "There are 5169 rows and 2 columns are present in the Data Set\n"
          ]
        }
      ]
    },
    {
      "cell_type": "markdown",
      "metadata": {
        "id": "JloUVzwWmF43"
      },
      "source": [
        "**Note**\n",
        "> - **There are 403 duplicate records are present in the dataset so we are removed , now there is 5169 rows of data**"
      ]
    },
    {
      "cell_type": "markdown",
      "metadata": {
        "id": "qPgtnni5mF44"
      },
      "source": [
        "### Pre-processing\n"
      ]
    },
    {
      "cell_type": "code",
      "metadata": {
        "id": "_KKtPmj9mF44"
      },
      "source": [
        "from nltk.corpus import stopwords # for stop words"
      ],
      "execution_count": null,
      "outputs": []
    },
    {
      "cell_type": "code",
      "metadata": {
        "id": "mhgXXe18mF44"
      },
      "source": [
        "\n",
        "\n",
        "def pre_processing(text):\n",
        "    \n",
        "    text = str(text).lower()  # Converted into lower case\n",
        "    \n",
        "    spl_char_text = re.sub(r'[^a-z]',' ',text) # removed numbers and special characters\n",
        "    \n",
        "    # remove aall punctuation\n",
        "    nopunc = [char for char in text if char not in string.punctuation]\n",
        "    nopunc = ''.join(nopunc)\n",
        "    \n",
        "    # remove all stop words\n",
        "    \n",
        "    clean_words = [word for word in nopunc.split() if word.lower() not in stopwords.words('english')]\n",
        "    \n",
        "    # return a list of clean text\n",
        "    return clean_words\n",
        "    \n"
      ],
      "execution_count": null,
      "outputs": []
    },
    {
      "cell_type": "code",
      "metadata": {
        "id": "swDZULShmF45",
        "outputId": "42b821b1-7fe1-46f7-c33e-d2ff6fea5522"
      },
      "source": [
        "df['EmailText'].head().apply(pre_processing)"
      ],
      "execution_count": null,
      "outputs": [
        {
          "data": {
            "text/plain": [
              "0    [go, jurong, point, crazy, available, bugis, n...\n",
              "1                       [ok, lar, joking, wif, u, oni]\n",
              "2    [free, entry, 2, wkly, comp, win, fa, cup, fin...\n",
              "3        [u, dun, say, early, hor, u, c, already, say]\n",
              "4    [nah, dont, think, goes, usf, lives, around, t...\n",
              "Name: EmailText, dtype: object"
            ]
          },
          "execution_count": 24,
          "metadata": {},
          "output_type": "execute_result"
        }
      ]
    },
    {
      "cell_type": "code",
      "metadata": {
        "id": "5y9TnvJbmF45"
      },
      "source": [
        "from sklearn.feature_extraction.text import CountVectorizer\n",
        "#import a CountVectorizer"
      ],
      "execution_count": null,
      "outputs": []
    },
    {
      "cell_type": "code",
      "metadata": {
        "id": "ipHs-lvomF45"
      },
      "source": [
        "# convvert a collection of EmailText to a matrix of tokens\n",
        "\n",
        "bow = CountVectorizer(analyzer= pre_processing).fit_transform(df['EmailText'],df['Label'])"
      ],
      "execution_count": null,
      "outputs": []
    },
    {
      "cell_type": "code",
      "metadata": {
        "id": "yyX_ML-emF46"
      },
      "source": [
        " df1 = pd.get_dummies(df, columns=['Label'], drop_first=True)\n",
        "\n",
        "#spam = 1\n",
        "#Ham =0"
      ],
      "execution_count": null,
      "outputs": []
    },
    {
      "cell_type": "code",
      "metadata": {
        "id": "T0YMFxxWmF46",
        "outputId": "7d455855-70cd-4a3c-8194-7f0cf814a0e5"
      },
      "source": [
        "df1"
      ],
      "execution_count": null,
      "outputs": [
        {
          "data": {
            "text/html": [
              "<div>\n",
              "<style scoped>\n",
              "    .dataframe tbody tr th:only-of-type {\n",
              "        vertical-align: middle;\n",
              "    }\n",
              "\n",
              "    .dataframe tbody tr th {\n",
              "        vertical-align: top;\n",
              "    }\n",
              "\n",
              "    .dataframe thead th {\n",
              "        text-align: right;\n",
              "    }\n",
              "</style>\n",
              "<table border=\"1\" class=\"dataframe\">\n",
              "  <thead>\n",
              "    <tr style=\"text-align: right;\">\n",
              "      <th></th>\n",
              "      <th>EmailText</th>\n",
              "      <th>Label_spam</th>\n",
              "    </tr>\n",
              "  </thead>\n",
              "  <tbody>\n",
              "    <tr>\n",
              "      <th>0</th>\n",
              "      <td>Go until jurong point, crazy.. Available only ...</td>\n",
              "      <td>0</td>\n",
              "    </tr>\n",
              "    <tr>\n",
              "      <th>1</th>\n",
              "      <td>Ok lar... Joking wif u oni...</td>\n",
              "      <td>0</td>\n",
              "    </tr>\n",
              "    <tr>\n",
              "      <th>2</th>\n",
              "      <td>Free entry in 2 a wkly comp to win FA Cup fina...</td>\n",
              "      <td>1</td>\n",
              "    </tr>\n",
              "    <tr>\n",
              "      <th>3</th>\n",
              "      <td>U dun say so early hor... U c already then say...</td>\n",
              "      <td>0</td>\n",
              "    </tr>\n",
              "    <tr>\n",
              "      <th>4</th>\n",
              "      <td>Nah I don't think he goes to usf, he lives aro...</td>\n",
              "      <td>0</td>\n",
              "    </tr>\n",
              "    <tr>\n",
              "      <th>...</th>\n",
              "      <td>...</td>\n",
              "      <td>...</td>\n",
              "    </tr>\n",
              "    <tr>\n",
              "      <th>5567</th>\n",
              "      <td>This is the 2nd time we have tried 2 contact u...</td>\n",
              "      <td>1</td>\n",
              "    </tr>\n",
              "    <tr>\n",
              "      <th>5568</th>\n",
              "      <td>Will Ã_ b going to esplanade fr home?</td>\n",
              "      <td>0</td>\n",
              "    </tr>\n",
              "    <tr>\n",
              "      <th>5569</th>\n",
              "      <td>Pity, * was in mood for that. So...any other s...</td>\n",
              "      <td>0</td>\n",
              "    </tr>\n",
              "    <tr>\n",
              "      <th>5570</th>\n",
              "      <td>The guy did some bitching but I acted like i'd...</td>\n",
              "      <td>0</td>\n",
              "    </tr>\n",
              "    <tr>\n",
              "      <th>5571</th>\n",
              "      <td>Rofl. Its true to its name</td>\n",
              "      <td>0</td>\n",
              "    </tr>\n",
              "  </tbody>\n",
              "</table>\n",
              "<p>5169 rows × 2 columns</p>\n",
              "</div>"
            ],
            "text/plain": [
              "                                              EmailText  Label_spam\n",
              "0     Go until jurong point, crazy.. Available only ...           0\n",
              "1                         Ok lar... Joking wif u oni...           0\n",
              "2     Free entry in 2 a wkly comp to win FA Cup fina...           1\n",
              "3     U dun say so early hor... U c already then say...           0\n",
              "4     Nah I don't think he goes to usf, he lives aro...           0\n",
              "...                                                 ...         ...\n",
              "5567  This is the 2nd time we have tried 2 contact u...           1\n",
              "5568             Will Ã_ b going to esplanade fr home?           0\n",
              "5569  Pity, * was in mood for that. So...any other s...           0\n",
              "5570  The guy did some bitching but I acted like i'd...           0\n",
              "5571                         Rofl. Its true to its name           0\n",
              "\n",
              "[5169 rows x 2 columns]"
            ]
          },
          "execution_count": 30,
          "metadata": {},
          "output_type": "execute_result"
        }
      ]
    },
    {
      "cell_type": "markdown",
      "metadata": {
        "id": "z52MFxeHmF46"
      },
      "source": [
        "### Split the dataset into training and testing"
      ]
    },
    {
      "cell_type": "markdown",
      "metadata": {
        "id": "C5qIS9zqmF46"
      },
      "source": [
        "#### Train_Test_Split\n",
        "> - Reference link : https://scikit-learn.org/stable/modules/generated/sklearn.model_selection.train_test_split.html\n",
        "> - **Train-Test Split Evaluation**\n",
        "- The train-test split is a technique for evaluating the performance of a machine learning algorithm.\n",
        "\n",
        "- It can be used for classification or regression problems and can be used for any supervised learning algorithm.\n",
        "\n",
        "- The procedure involves taking a dataset and dividing it into two subsets. The first subset is used to fit the model and is referred to as the training dataset. The second subset is not used to train the model; instead, the input element of the dataset is provided to the model, then predictions are made and compared to the expected values. This second dataset is referred to as the test dataset.\n",
        "\n",
        "- Train Dataset: Used to fit the machine learning model.\n",
        "- Test Dataset: Used to evaluate the fit machine learning model.\n",
        "- The objective is to estimate the performance of the machine learning model on new data: data not used to train the model.\n",
        "\n",
        ">  common split percentages include:\n",
        "\n",
        "- Train: 80%, Test: 20%\n",
        "- Train: 67%, Test: 33%\n",
        "- Train: 50%, Test: 50%"
      ]
    },
    {
      "cell_type": "code",
      "metadata": {
        "id": "bUMxizzPmF46",
        "outputId": "0f9c4b9a-0503-421f-9652-cf324253c7a9"
      },
      "source": [
        "#Lets check the shape of the data, after pre_process,removed stopwords\n",
        "bow.shape"
      ],
      "execution_count": null,
      "outputs": [
        {
          "data": {
            "text/plain": [
              "(5169, 9431)"
            ]
          },
          "execution_count": 31,
          "metadata": {},
          "output_type": "execute_result"
        }
      ]
    },
    {
      "cell_type": "code",
      "metadata": {
        "id": "8ACAIOM8mF47"
      },
      "source": [
        "\n",
        "#importing train_test_split\n",
        "from sklearn.model_selection import train_test_split\n",
        "\n",
        "## split into train tests sets\n",
        "x_train,x_test,y_train,y_test=train_test_split(bow,df1[\"Label_spam\"],test_size=0.2)"
      ],
      "execution_count": null,
      "outputs": []
    },
    {
      "cell_type": "markdown",
      "metadata": {
        "id": "XUafhHOXmF47"
      },
      "source": [
        "### Build the model"
      ]
    },
    {
      "cell_type": "code",
      "metadata": {
        "id": "zaH-Dc-lmF48"
      },
      "source": [
        "# import the SVM\n",
        "\n",
        "from sklearn import svm\n",
        "\n",
        "#import GridSearchCV to know the best parameters\n",
        "from sklearn.model_selection import GridSearchCV"
      ],
      "execution_count": null,
      "outputs": []
    },
    {
      "cell_type": "code",
      "metadata": {
        "id": "6MGasz2LmF49",
        "outputId": "b3e02ebc-90aa-48b5-c745-bfd53413835c"
      },
      "source": [
        "##Step: Build a model\n",
        "\n",
        "# Tunne all the parameters\n",
        "tuned_parameters = {'kernel': ['rbf','linear'], 'gamma': [1e-3, 1e-4],\n",
        "                     'C': [1, 10, 100, 1000]}\n",
        "\n",
        "#train the model with  perfrom all kernels, gamma, C \n",
        "model = GridSearchCV(svm.SVC(), tuned_parameters)\n",
        "\n",
        "#Build the model and fit to train and test\n",
        "\n",
        "model.fit(x_train,y_train)\n",
        "\n",
        "\n",
        "#See the best parameters\n",
        "print(model.best_params_)"
      ],
      "execution_count": null,
      "outputs": [
        {
          "name": "stdout",
          "output_type": "stream",
          "text": [
            "{'C': 100, 'gamma': 0.001, 'kernel': 'rbf'}\n"
          ]
        }
      ]
    },
    {
      "cell_type": "markdown",
      "metadata": {
        "id": "bT-VHRHxmF49"
      },
      "source": [
        "### NOTE : Best Parameters are :\n",
        "> - **'C':       100**\n",
        "> - **'gamma':   0.001**\n",
        "> - **'kernel':  'rbf'**"
      ]
    },
    {
      "cell_type": "code",
      "metadata": {
        "id": "dmvVTocemF49"
      },
      "source": [
        "#Train the model, using the best parameters\n",
        "\n",
        "model1=svm.SVC(C= 100, gamma= 0.001, kernel= 'rbf',probability=True)"
      ],
      "execution_count": null,
      "outputs": []
    },
    {
      "cell_type": "code",
      "metadata": {
        "id": "Vft38wbimF4-",
        "outputId": "af92f8c5-970e-4cf1-e47b-2b01b234f4fa"
      },
      "source": [
        "# fit the model on x_train, y_train\n",
        "model1.fit(x_train,y_train)"
      ],
      "execution_count": null,
      "outputs": [
        {
          "data": {
            "text/plain": [
              "SVC(C=100, break_ties=False, cache_size=200, class_weight=None, coef0=0.0,\n",
              "    decision_function_shape='ovr', degree=3, gamma=0.001, kernel='rbf',\n",
              "    max_iter=-1, probability=True, random_state=None, shrinking=True, tol=0.001,\n",
              "    verbose=False)"
            ]
          },
          "execution_count": 36,
          "metadata": {},
          "output_type": "execute_result"
        }
      ]
    },
    {
      "cell_type": "code",
      "metadata": {
        "id": "H_Y__-yrmF4-"
      },
      "source": [
        "#predict the model on test \n",
        "y_pred=model1.predict(x_test)"
      ],
      "execution_count": null,
      "outputs": []
    },
    {
      "cell_type": "code",
      "metadata": {
        "id": "3A7BUK77mF4-"
      },
      "source": [
        "#predict the models and probabilities\n",
        "y_pred_proba=model1.predict_proba(x_test)[:,1]"
      ],
      "execution_count": null,
      "outputs": []
    },
    {
      "cell_type": "code",
      "metadata": {
        "id": "STIURPjsmF4_",
        "outputId": "40e2e3fb-ea08-401f-ed42-12574938c510"
      },
      "source": [
        "#check the all probabilities\n",
        "y_pred_proba"
      ],
      "execution_count": null,
      "outputs": [
        {
          "data": {
            "text/plain": [
              "array([0.00053274, 0.00220692, 0.01705265, ..., 0.00079616, 0.00515363,\n",
              "       0.00305332])"
            ]
          },
          "execution_count": 53,
          "metadata": {},
          "output_type": "execute_result"
        }
      ]
    },
    {
      "cell_type": "code",
      "metadata": {
        "id": "nDTp68j6mF4_"
      },
      "source": [
        "#import the libraries for stats metrices\n",
        "import numpy as np\n",
        "\n",
        "#importing the Confusion matrix metrics and classification reports\n",
        "from sklearn.metrics import confusion_matrix, classification_report\n",
        "\n",
        "#Importing cohen_kappa_score and roc_auc_score metrices\n",
        "from sklearn.metrics import cohen_kappa_score, roc_auc_score\n",
        "from sklearn.metrics import roc_curve, auc\n",
        "\n",
        "#importing visualizing library\n",
        "import matplotlib.pyplot as plt\n",
        "import seaborn as sns\n",
        "\n",
        "#logloss to check is there loss or difference\n",
        "from sklearn.metrics import log_loss\n",
        "\n",
        "#Creating a Function name called Classification Metric\n",
        "def classification_metric(y_test,y_pred,y_prob,label,n=1,verbose=False):\n",
        "    \"\"\"\n",
        "    Note: only for binary classification\n",
        "    confusionmatrix(y_true,y_pred,labels=['Ham','Spam'])\n",
        "    \"\"\"\n",
        "    # confusion matrix\n",
        "    \n",
        "    cm = confusion_matrix(y_test,y_pred)\n",
        "    row_sum = cm.sum(axis=0)\n",
        "    cm = np.append(cm,row_sum.reshape(1,-1),axis=0)\n",
        "    col_sum = cm.sum(axis=1)\n",
        "    cm = np.append(cm,col_sum.reshape(-1,1),axis=1)\n",
        "\n",
        "    labels = label+['Total']\n",
        "    \n",
        "    plt.figure(figsize=(10,6))\n",
        "    #plotting a fig size as 10 width and 6 height\n",
        "    \n",
        "    \n",
        "    sns.heatmap(cm,annot=True,cmap='summer',fmt='0.2f',xticklabels=labels,\n",
        "                yticklabels=labels,linewidths=3,cbar=None,)\n",
        "    #create a heapmap using seaborn libarary and used various parametere\n",
        "\n",
        "    plt.xlabel('Predicted Values')\n",
        "    #ploting the values on x- axis as Predicted values\n",
        "    \n",
        "    plt.ylabel('Actual Values')\n",
        "    #ploting the values on y- axis as actual values\n",
        "    \n",
        "    plt.title('Confusion Matrix')\n",
        "    # Mentioning the title of the figure\n",
        "    \n",
        "    plt.show()\n",
        "    #show the image\n",
        "    \n",
        "    print('*'*30+'Classifcation Report'+'*'*30+'\\n\\n')\n",
        "    #showing * are to put a  line to style\n",
        "    \n",
        "    #created classification report\n",
        "    cr = classification_report(y_test,y_pred)\n",
        "    \n",
        "    #print the classifiaction report\n",
        "    print(cr)\n",
        "    \n",
        "    print('\\n'+'*'*36+'Kappa Score'+'*'*36+'\\n\\n')\n",
        "    \n",
        "    \n",
        "    # Kappa score\n",
        "    kappa = cohen_kappa_score(y_test,y_pred) # Kappa Score\n",
        "    print('Kappa Score =',kappa)\n",
        "    \n",
        "    print('\\n'+'*'*30+'Area Under Curve Score'+'*'*30+'\\n\\n')\n",
        "    # Kappa score\n",
        "    roc_a = roc_auc_score(y_test,y_pred) # Kappa Score\n",
        "    print('AUC Score =',roc_a)\n",
        "    \n",
        "    # ROC\n",
        "    \n",
        "    \n",
        "    plt.figure(figsize=(8,5))\n",
        "    #plot the figuare based on width and height sizes\n",
        "    \n",
        "    fpr,tpr, thresh = roc_curve(y_test,y_prob)\n",
        "    #fpr false positive rate\n",
        "    #tpr true positive rate\n",
        "    \n",
        "    plt.plot(fpr,tpr,'r')\n",
        "    print('Number of probabilities to build ROC =',len(fpr))\n",
        "    if verbose == True:\n",
        "        for i in range(len(thresh)):\n",
        "            if i%n == 0:\n",
        "                plt.text(fpr[i],tpr[i],'%0.2f'%thresh[i])\n",
        "                plt.plot(fpr[i],tpr[i],'v')\n",
        "\n",
        "\n",
        "    plt.xlabel('False Positive Rate')\n",
        "    #fpr on x -axis \n",
        "    \n",
        "    plt.ylabel('True Positive Rate')\n",
        "    #tpr on y axis\n",
        "    \n",
        "    plt.title('Receiver Operating Characterstic')\n",
        "    #mentioning the title of the figuare\n",
        "    \n",
        "    plt.legend(['AUC = {}'.format(roc_a)])\n",
        "    #assign the legend to the figuare\n",
        "    \n",
        "    plt.plot([0,1],[0,1],'b--',linewidth=2.0)\n",
        "    #mentioning then line width as 2.0\n",
        "    \n",
        "    plt.grid()\n",
        "    # show the grid lines to the image\n",
        "    \n",
        "    plt.show()\n",
        "    #display the image\n",
        "    \n",
        "  # A point beyond which there is a change in the manner a program executes  \n",
        "class threshold():\n",
        "    '''\n",
        "    Setting up the threshold points\n",
        "    '''\n",
        "    def __init__(self):\n",
        "        self.th = 0.5\n",
        "        \n",
        "    def predict_threshold(self,y):\n",
        "        if y >= self.th:\n",
        "            return 1\n",
        "        else:\n",
        "            return 0"
      ],
      "execution_count": null,
      "outputs": []
    },
    {
      "cell_type": "code",
      "metadata": {
        "id": "2QsK9yNjmF5A",
        "outputId": "30686382-ec96-47b5-fbef-f1ab4d8fedcf"
      },
      "source": [
        "#Calling the Classification_metric function. It will displays all the metrices which are we created earlier\n",
        "\n",
        "classification_metric(y_test,y_pred,y_pred_proba,['ham','spam'],n=10,verbose=True)\n",
        "\n",
        "# VERBOSE : This flag allows you to write regular expressions that look nicer and are more readable by allowing you to visually separate logical sections of the pattern and add comments."
      ],
      "execution_count": null,
      "outputs": [
        {
          "data": {
            "image/png": "[encoded data removed]",
            "text/plain": [
              "<Figure size 720x432 with 1 Axes>"
            ]
          },
          "metadata": {
            "needs_background": "light"
          },
          "output_type": "display_data"
        },
        {
          "name": "stdout",
          "output_type": "stream",
          "text": [
            "******************************Classifcation Report******************************\n",
            "\n",
            "\n",
            "              precision    recall  f1-score   support\n",
            "\n",
            "           0       0.98      0.99      0.99       899\n",
            "           1       0.96      0.84      0.90       135\n",
            "\n",
            "    accuracy                           0.97      1034\n",
            "   macro avg       0.97      0.92      0.94      1034\n",
            "weighted avg       0.97      0.97      0.97      1034\n",
            "\n",
            "\n",
            "************************************Kappa Score************************************\n",
            "\n",
            "\n",
            "Kappa Score = 0.8833696302916193\n",
            "\n",
            "******************************Area Under Curve Score******************************\n",
            "\n",
            "\n",
            "AUC Score = 0.9194413545915215\n",
            "Number of probabilities to build ROC = 54\n"
          ]
        },
        {
          "data": {
            "image/png": "[encoded data removed]",
            "text/plain": [
              "<Figure size 576x360 with 1 Axes>"
            ]
          },
          "metadata": {
            "needs_background": "light"
          },
          "output_type": "display_data"
        }
      ]
    },
    {
      "cell_type": "markdown",
      "metadata": {
        "id": "6VwPmEVumF5A"
      },
      "source": [
        "## Note :- \n",
        "> - **Accuracy** - 0.97\n",
        "> - **Kappa Score** - 0.88\n",
        "> - **AUC SCORE** -   0.91\n"
      ]
    },
    {
      "cell_type": "code",
      "metadata": {
        "id": "av35lSJomF5A"
      },
      "source": [
        ""
      ],
      "execution_count": null,
      "outputs": []
    }
  ]
}